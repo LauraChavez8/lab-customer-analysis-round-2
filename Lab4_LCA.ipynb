{
 "cells": [
  {
   "cell_type": "markdown",
   "id": "379e6824-5ac5-46cc-ab3c-826c08d08e12",
   "metadata": {},
   "source": [
    "### Show the dataframe shape"
   ]
  },
  {
   "cell_type": "code",
   "execution_count": 1,
   "id": "4e99c994-005f-4382-a8e8-64bf93e66133",
   "metadata": {},
   "outputs": [],
   "source": [
    "import pandas as pd"
   ]
  },
  {
   "cell_type": "code",
   "execution_count": 2,
   "id": "f287ec1a-c4c5-40c9-876e-976ae8016c33",
   "metadata": {},
   "outputs": [],
   "source": [
    "base1 = pd.read_csv('files_for_lab/csv_files/marketing_customer_analysis.csv')"
   ]
  },
  {
   "cell_type": "code",
   "execution_count": 3,
   "id": "e1e27648-f645-475f-b4fc-f98a597a702d",
   "metadata": {},
   "outputs": [],
   "source": [
    "df1 = pd.DataFrame(base1)"
   ]
  },
  {
   "cell_type": "code",
   "execution_count": 4,
   "id": "1d9c7f8e-742e-44bd-bc93-bd1cbfa62543",
   "metadata": {},
   "outputs": [
    {
     "data": {
      "text/plain": [
       "(10910, 26)"
      ]
     },
     "execution_count": 4,
     "metadata": {},
     "output_type": "execute_result"
    }
   ],
   "source": [
    "df1.shape"
   ]
  },
  {
   "cell_type": "markdown",
   "id": "122f38bf-bc0b-4b99-a3e4-170495a24635",
   "metadata": {},
   "source": [
    "### Standardize header names"
   ]
  },
  {
   "cell_type": "code",
   "execution_count": 5,
   "id": "be2df04d-2bfc-4068-872f-6051cffdeb03",
   "metadata": {},
   "outputs": [],
   "source": [
    "df1.columns = df1.columns.str.lower().str.replace(' ','_')"
   ]
  },
  {
   "cell_type": "markdown",
   "id": "f8f6d990-cf51-4bdd-91d3-a4ab7cdb3827",
   "metadata": {},
   "source": [
    "### Which columns are numerical?"
   ]
  },
  {
   "cell_type": "code",
   "execution_count": 6,
   "id": "46988167-8a02-4ba3-ba6a-1d3fd8ccf220",
   "metadata": {},
   "outputs": [
    {
     "data": {
      "text/plain": [
       "unnamed:_0                         int64\n",
       "customer                          object\n",
       "state                             object\n",
       "customer_lifetime_value          float64\n",
       "response                          object\n",
       "coverage                          object\n",
       "education                         object\n",
       "effective_to_date                 object\n",
       "employmentstatus                  object\n",
       "gender                            object\n",
       "income                             int64\n",
       "location_code                     object\n",
       "marital_status                    object\n",
       "monthly_premium_auto               int64\n",
       "months_since_last_claim          float64\n",
       "months_since_policy_inception      int64\n",
       "number_of_open_complaints        float64\n",
       "number_of_policies                 int64\n",
       "policy_type                       object\n",
       "policy                            object\n",
       "renew_offer_type                  object\n",
       "sales_channel                     object\n",
       "total_claim_amount               float64\n",
       "vehicle_class                     object\n",
       "vehicle_size                      object\n",
       "vehicle_type                      object\n",
       "dtype: object"
      ]
     },
     "execution_count": 6,
     "metadata": {},
     "output_type": "execute_result"
    }
   ],
   "source": [
    "df1.dtypes"
   ]
  },
  {
   "cell_type": "markdown",
   "id": "32e78936-11d6-4e8b-a581-6b9893973fb4",
   "metadata": {},
   "source": [
    "Las columnas CUSTOMER LIFETIME VALUE, EFFECTIVE TO DATE, INCOME, MONTHLY PREMIUM AUTO, MONTHS SINCE LAST CLAIM, \n",
    "MONTHS SINCE POLICY INCEPTION, NUMBER OF OPEN COMPLAINTS, NUMBER OF POLICIES y TOTAL CLAIM AMOUNT"
   ]
  },
  {
   "cell_type": "markdown",
   "id": "fa16356a-c726-4d60-bd83-6b23b2c7e572",
   "metadata": {},
   "source": [
    "### Which columns are categorical?"
   ]
  },
  {
   "cell_type": "code",
   "execution_count": 21,
   "id": "91c0fa4a-36a1-4f6f-b28a-1e474c2dc72a",
   "metadata": {},
   "outputs": [
    {
     "data": {
      "text/html": [
       "<div>\n",
       "<style scoped>\n",
       "    .dataframe tbody tr th:only-of-type {\n",
       "        vertical-align: middle;\n",
       "    }\n",
       "\n",
       "    .dataframe tbody tr th {\n",
       "        vertical-align: top;\n",
       "    }\n",
       "\n",
       "    .dataframe thead th {\n",
       "        text-align: right;\n",
       "    }\n",
       "</style>\n",
       "<table border=\"1\" class=\"dataframe\">\n",
       "  <thead>\n",
       "    <tr style=\"text-align: right;\">\n",
       "      <th></th>\n",
       "      <th>unnamed:_0</th>\n",
       "      <th>customer</th>\n",
       "      <th>state</th>\n",
       "      <th>customer_lifetime_value</th>\n",
       "      <th>response</th>\n",
       "      <th>coverage</th>\n",
       "      <th>education</th>\n",
       "      <th>effective_to_date</th>\n",
       "      <th>employmentstatus</th>\n",
       "      <th>gender</th>\n",
       "      <th>...</th>\n",
       "      <th>number_of_policies</th>\n",
       "      <th>policy_type</th>\n",
       "      <th>policy</th>\n",
       "      <th>renew_offer_type</th>\n",
       "      <th>sales_channel</th>\n",
       "      <th>total_claim_amount</th>\n",
       "      <th>vehicle_class</th>\n",
       "      <th>vehicle_size</th>\n",
       "      <th>vehicle_type</th>\n",
       "      <th>month</th>\n",
       "    </tr>\n",
       "  </thead>\n",
       "  <tbody>\n",
       "    <tr>\n",
       "      <th>0</th>\n",
       "      <td>0</td>\n",
       "      <td>DK49336</td>\n",
       "      <td>Arizona</td>\n",
       "      <td>4809.216960</td>\n",
       "      <td>No</td>\n",
       "      <td>Basic</td>\n",
       "      <td>College</td>\n",
       "      <td>2011-02-18</td>\n",
       "      <td>Employed</td>\n",
       "      <td>M</td>\n",
       "      <td>...</td>\n",
       "      <td>9</td>\n",
       "      <td>Corporate Auto</td>\n",
       "      <td>Corporate L3</td>\n",
       "      <td>Offer3</td>\n",
       "      <td>Agent</td>\n",
       "      <td>292.800000</td>\n",
       "      <td>Four-Door Car</td>\n",
       "      <td>Medsize</td>\n",
       "      <td>Not Aviable</td>\n",
       "      <td>February</td>\n",
       "    </tr>\n",
       "    <tr>\n",
       "      <th>1</th>\n",
       "      <td>1</td>\n",
       "      <td>KX64629</td>\n",
       "      <td>California</td>\n",
       "      <td>2228.525238</td>\n",
       "      <td>No</td>\n",
       "      <td>Basic</td>\n",
       "      <td>College</td>\n",
       "      <td>2011-01-18</td>\n",
       "      <td>Unemployed</td>\n",
       "      <td>F</td>\n",
       "      <td>...</td>\n",
       "      <td>1</td>\n",
       "      <td>Personal Auto</td>\n",
       "      <td>Personal L3</td>\n",
       "      <td>Offer4</td>\n",
       "      <td>Call Center</td>\n",
       "      <td>744.924331</td>\n",
       "      <td>Four-Door Car</td>\n",
       "      <td>Medsize</td>\n",
       "      <td>Not Aviable</td>\n",
       "      <td>January</td>\n",
       "    </tr>\n",
       "    <tr>\n",
       "      <th>2</th>\n",
       "      <td>2</td>\n",
       "      <td>LZ68649</td>\n",
       "      <td>Washington</td>\n",
       "      <td>14947.917300</td>\n",
       "      <td>No</td>\n",
       "      <td>Basic</td>\n",
       "      <td>Bachelor</td>\n",
       "      <td>2011-02-10</td>\n",
       "      <td>Employed</td>\n",
       "      <td>M</td>\n",
       "      <td>...</td>\n",
       "      <td>2</td>\n",
       "      <td>Personal Auto</td>\n",
       "      <td>Personal L3</td>\n",
       "      <td>Offer3</td>\n",
       "      <td>Call Center</td>\n",
       "      <td>480.000000</td>\n",
       "      <td>SUV</td>\n",
       "      <td>Medsize</td>\n",
       "      <td>A</td>\n",
       "      <td>February</td>\n",
       "    </tr>\n",
       "    <tr>\n",
       "      <th>3</th>\n",
       "      <td>3</td>\n",
       "      <td>XL78013</td>\n",
       "      <td>Oregon</td>\n",
       "      <td>22332.439460</td>\n",
       "      <td>Yes</td>\n",
       "      <td>Extended</td>\n",
       "      <td>College</td>\n",
       "      <td>2011-01-11</td>\n",
       "      <td>Employed</td>\n",
       "      <td>M</td>\n",
       "      <td>...</td>\n",
       "      <td>2</td>\n",
       "      <td>Corporate Auto</td>\n",
       "      <td>Corporate L3</td>\n",
       "      <td>Offer2</td>\n",
       "      <td>Branch</td>\n",
       "      <td>484.013411</td>\n",
       "      <td>Four-Door Car</td>\n",
       "      <td>Medsize</td>\n",
       "      <td>A</td>\n",
       "      <td>January</td>\n",
       "    </tr>\n",
       "    <tr>\n",
       "      <th>4</th>\n",
       "      <td>4</td>\n",
       "      <td>QA50777</td>\n",
       "      <td>Oregon</td>\n",
       "      <td>9025.067525</td>\n",
       "      <td>No</td>\n",
       "      <td>Premium</td>\n",
       "      <td>Bachelor</td>\n",
       "      <td>2011-01-17</td>\n",
       "      <td>Medical Leave</td>\n",
       "      <td>F</td>\n",
       "      <td>...</td>\n",
       "      <td>7</td>\n",
       "      <td>Personal Auto</td>\n",
       "      <td>Personal L2</td>\n",
       "      <td>Offer1</td>\n",
       "      <td>Branch</td>\n",
       "      <td>707.925645</td>\n",
       "      <td>Four-Door Car</td>\n",
       "      <td>Medsize</td>\n",
       "      <td>Not Aviable</td>\n",
       "      <td>January</td>\n",
       "    </tr>\n",
       "    <tr>\n",
       "      <th>5</th>\n",
       "      <td>5</td>\n",
       "      <td>HO81102</td>\n",
       "      <td>Not Aviable</td>\n",
       "      <td>4745.181764</td>\n",
       "      <td>Not Aviable</td>\n",
       "      <td>Basic</td>\n",
       "      <td>High School or Below</td>\n",
       "      <td>2011-02-14</td>\n",
       "      <td>Employed</td>\n",
       "      <td>M</td>\n",
       "      <td>...</td>\n",
       "      <td>7</td>\n",
       "      <td>Personal Auto</td>\n",
       "      <td>Personal L3</td>\n",
       "      <td>Offer1</td>\n",
       "      <td>Agent</td>\n",
       "      <td>292.800000</td>\n",
       "      <td>Four-Door Car</td>\n",
       "      <td>Medsize</td>\n",
       "      <td>A</td>\n",
       "      <td>February</td>\n",
       "    </tr>\n",
       "    <tr>\n",
       "      <th>6</th>\n",
       "      <td>6</td>\n",
       "      <td>IW72280</td>\n",
       "      <td>California</td>\n",
       "      <td>5035.035257</td>\n",
       "      <td>No</td>\n",
       "      <td>Basic</td>\n",
       "      <td>Doctor</td>\n",
       "      <td>2011-02-14</td>\n",
       "      <td>Employed</td>\n",
       "      <td>F</td>\n",
       "      <td>...</td>\n",
       "      <td>4</td>\n",
       "      <td>Corporate Auto</td>\n",
       "      <td>Corporate L2</td>\n",
       "      <td>Offer2</td>\n",
       "      <td>Branch</td>\n",
       "      <td>287.556107</td>\n",
       "      <td>Four-Door Car</td>\n",
       "      <td>Medsize</td>\n",
       "      <td>Not Aviable</td>\n",
       "      <td>February</td>\n",
       "    </tr>\n",
       "    <tr>\n",
       "      <th>7</th>\n",
       "      <td>7</td>\n",
       "      <td>IH64929</td>\n",
       "      <td>California</td>\n",
       "      <td>4956.247235</td>\n",
       "      <td>No</td>\n",
       "      <td>Basic</td>\n",
       "      <td>High School or Below</td>\n",
       "      <td>2011-02-24</td>\n",
       "      <td>Employed</td>\n",
       "      <td>M</td>\n",
       "      <td>...</td>\n",
       "      <td>3</td>\n",
       "      <td>Personal Auto</td>\n",
       "      <td>Personal L2</td>\n",
       "      <td>Offer2</td>\n",
       "      <td>Branch</td>\n",
       "      <td>247.402353</td>\n",
       "      <td>Two-Door Car</td>\n",
       "      <td>Medsize</td>\n",
       "      <td>Not Aviable</td>\n",
       "      <td>February</td>\n",
       "    </tr>\n",
       "    <tr>\n",
       "      <th>8</th>\n",
       "      <td>8</td>\n",
       "      <td>FM55990</td>\n",
       "      <td>California</td>\n",
       "      <td>5989.773931</td>\n",
       "      <td>Yes</td>\n",
       "      <td>Premium</td>\n",
       "      <td>College</td>\n",
       "      <td>2011-01-19</td>\n",
       "      <td>Employed</td>\n",
       "      <td>M</td>\n",
       "      <td>...</td>\n",
       "      <td>1</td>\n",
       "      <td>Personal Auto</td>\n",
       "      <td>Personal L1</td>\n",
       "      <td>Offer2</td>\n",
       "      <td>Branch</td>\n",
       "      <td>739.200000</td>\n",
       "      <td>Sports Car</td>\n",
       "      <td>Medsize</td>\n",
       "      <td>Not Aviable</td>\n",
       "      <td>January</td>\n",
       "    </tr>\n",
       "    <tr>\n",
       "      <th>9</th>\n",
       "      <td>9</td>\n",
       "      <td>QX31376</td>\n",
       "      <td>Oregon</td>\n",
       "      <td>17114.328150</td>\n",
       "      <td>No</td>\n",
       "      <td>Extended</td>\n",
       "      <td>Master</td>\n",
       "      <td>2011-01-04</td>\n",
       "      <td>Employed</td>\n",
       "      <td>F</td>\n",
       "      <td>...</td>\n",
       "      <td>2</td>\n",
       "      <td>Corporate Auto</td>\n",
       "      <td>Corporate L3</td>\n",
       "      <td>Offer2</td>\n",
       "      <td>Agent</td>\n",
       "      <td>408.000000</td>\n",
       "      <td>Four-Door Car</td>\n",
       "      <td>Small</td>\n",
       "      <td>Not Aviable</td>\n",
       "      <td>January</td>\n",
       "    </tr>\n",
       "  </tbody>\n",
       "</table>\n",
       "<p>10 rows × 27 columns</p>\n",
       "</div>"
      ],
      "text/plain": [
       "   unnamed:_0 customer        state  customer_lifetime_value     response   \n",
       "0           0  DK49336      Arizona              4809.216960           No  \\\n",
       "1           1  KX64629   California              2228.525238           No   \n",
       "2           2  LZ68649   Washington             14947.917300           No   \n",
       "3           3  XL78013       Oregon             22332.439460          Yes   \n",
       "4           4  QA50777       Oregon              9025.067525           No   \n",
       "5           5  HO81102  Not Aviable              4745.181764  Not Aviable   \n",
       "6           6  IW72280   California              5035.035257           No   \n",
       "7           7  IH64929   California              4956.247235           No   \n",
       "8           8  FM55990   California              5989.773931          Yes   \n",
       "9           9  QX31376       Oregon             17114.328150           No   \n",
       "\n",
       "   coverage             education effective_to_date employmentstatus gender   \n",
       "0     Basic               College        2011-02-18         Employed      M  \\\n",
       "1     Basic               College        2011-01-18       Unemployed      F   \n",
       "2     Basic              Bachelor        2011-02-10         Employed      M   \n",
       "3  Extended               College        2011-01-11         Employed      M   \n",
       "4   Premium              Bachelor        2011-01-17    Medical Leave      F   \n",
       "5     Basic  High School or Below        2011-02-14         Employed      M   \n",
       "6     Basic                Doctor        2011-02-14         Employed      F   \n",
       "7     Basic  High School or Below        2011-02-24         Employed      M   \n",
       "8   Premium               College        2011-01-19         Employed      M   \n",
       "9  Extended                Master        2011-01-04         Employed      F   \n",
       "\n",
       "   ...  number_of_policies     policy_type        policy  renew_offer_type   \n",
       "0  ...                   9  Corporate Auto  Corporate L3            Offer3  \\\n",
       "1  ...                   1   Personal Auto   Personal L3            Offer4   \n",
       "2  ...                   2   Personal Auto   Personal L3            Offer3   \n",
       "3  ...                   2  Corporate Auto  Corporate L3            Offer2   \n",
       "4  ...                   7   Personal Auto   Personal L2            Offer1   \n",
       "5  ...                   7   Personal Auto   Personal L3            Offer1   \n",
       "6  ...                   4  Corporate Auto  Corporate L2            Offer2   \n",
       "7  ...                   3   Personal Auto   Personal L2            Offer2   \n",
       "8  ...                   1   Personal Auto   Personal L1            Offer2   \n",
       "9  ...                   2  Corporate Auto  Corporate L3            Offer2   \n",
       "\n",
       "   sales_channel  total_claim_amount  vehicle_class  vehicle_size   \n",
       "0          Agent          292.800000  Four-Door Car       Medsize  \\\n",
       "1    Call Center          744.924331  Four-Door Car       Medsize   \n",
       "2    Call Center          480.000000            SUV       Medsize   \n",
       "3         Branch          484.013411  Four-Door Car       Medsize   \n",
       "4         Branch          707.925645  Four-Door Car       Medsize   \n",
       "5          Agent          292.800000  Four-Door Car       Medsize   \n",
       "6         Branch          287.556107  Four-Door Car       Medsize   \n",
       "7         Branch          247.402353   Two-Door Car       Medsize   \n",
       "8         Branch          739.200000     Sports Car       Medsize   \n",
       "9          Agent          408.000000  Four-Door Car         Small   \n",
       "\n",
       "  vehicle_type     month  \n",
       "0  Not Aviable  February  \n",
       "1  Not Aviable   January  \n",
       "2            A  February  \n",
       "3            A   January  \n",
       "4  Not Aviable   January  \n",
       "5            A  February  \n",
       "6  Not Aviable  February  \n",
       "7  Not Aviable  February  \n",
       "8  Not Aviable   January  \n",
       "9  Not Aviable   January  \n",
       "\n",
       "[10 rows x 27 columns]"
      ]
     },
     "execution_count": 21,
     "metadata": {},
     "output_type": "execute_result"
    }
   ],
   "source": [
    "df1.head(10)"
   ]
  },
  {
   "cell_type": "markdown",
   "id": "e9a22948-49ff-47a8-a197-094d9a6695e6",
   "metadata": {},
   "source": [
    "Las columnas STATE, RESPONSE, COVERAGE, EDUCATION, EMPLOYMENTSTATUS, GENDER, LOCATION CODE, MARITAL STATUS, POLICY TYPE, POLICY, RENEW OFFER TYPE,SALES CHANNEL, VEHICLE CLASS, VEHICLE SIZE y VEHICLE TYPE."
   ]
  },
  {
   "cell_type": "markdown",
   "id": "b8006cf4-8668-4f8c-937a-3a7f73f8de4c",
   "metadata": {},
   "source": [
    "### Check and deal with NaN values"
   ]
  },
  {
   "cell_type": "code",
   "execution_count": 8,
   "id": "0307ac0d-6755-47e8-992e-e5cc03d9c12b",
   "metadata": {},
   "outputs": [
    {
     "data": {
      "text/plain": [
       "unnamed:_0                          0\n",
       "customer                            0\n",
       "state                             631\n",
       "customer_lifetime_value             0\n",
       "response                          631\n",
       "coverage                            0\n",
       "education                           0\n",
       "effective_to_date                   0\n",
       "employmentstatus                    0\n",
       "gender                              0\n",
       "income                              0\n",
       "location_code                       0\n",
       "marital_status                      0\n",
       "monthly_premium_auto                0\n",
       "months_since_last_claim           633\n",
       "months_since_policy_inception       0\n",
       "number_of_open_complaints         633\n",
       "number_of_policies                  0\n",
       "policy_type                         0\n",
       "policy                              0\n",
       "renew_offer_type                    0\n",
       "sales_channel                       0\n",
       "total_claim_amount                  0\n",
       "vehicle_class                     622\n",
       "vehicle_size                      622\n",
       "vehicle_type                     5482\n",
       "dtype: int64"
      ]
     },
     "execution_count": 8,
     "metadata": {},
     "output_type": "execute_result"
    }
   ],
   "source": [
    "df1.isnull().sum()"
   ]
  },
  {
   "cell_type": "code",
   "execution_count": 9,
   "id": "eaefb82c-d49c-4d09-928e-28232896ddb9",
   "metadata": {},
   "outputs": [],
   "source": [
    "df1.months_since_last_claim.fillna(0, inplace = True)\n",
    "df1.number_of_open_complaints.fillna(0, inplace = True)"
   ]
  },
  {
   "cell_type": "code",
   "execution_count": 10,
   "id": "965a08bd-7087-43c3-8c9e-9f15478b1c8b",
   "metadata": {},
   "outputs": [],
   "source": [
    "df1.state.fillna('Not Aviable', inplace = True)\n",
    "df1.response.fillna('Not Aviable', inplace = True)\n",
    "df1.vehicle_class.fillna('Not Aviable', inplace = True)\n",
    "df1.vehicle_size.fillna('Not Aviable', inplace = True)\n",
    "df1.vehicle_type.fillna('Not Aviable', inplace = True)"
   ]
  },
  {
   "cell_type": "code",
   "execution_count": 11,
   "id": "e0f5a470-a99f-480f-8c2d-6af1c6f12afb",
   "metadata": {},
   "outputs": [
    {
     "data": {
      "text/plain": [
       "unnamed:_0                       0\n",
       "customer                         0\n",
       "state                            0\n",
       "customer_lifetime_value          0\n",
       "response                         0\n",
       "coverage                         0\n",
       "education                        0\n",
       "effective_to_date                0\n",
       "employmentstatus                 0\n",
       "gender                           0\n",
       "income                           0\n",
       "location_code                    0\n",
       "marital_status                   0\n",
       "monthly_premium_auto             0\n",
       "months_since_last_claim          0\n",
       "months_since_policy_inception    0\n",
       "number_of_open_complaints        0\n",
       "number_of_policies               0\n",
       "policy_type                      0\n",
       "policy                           0\n",
       "renew_offer_type                 0\n",
       "sales_channel                    0\n",
       "total_claim_amount               0\n",
       "vehicle_class                    0\n",
       "vehicle_size                     0\n",
       "vehicle_type                     0\n",
       "dtype: int64"
      ]
     },
     "execution_count": 11,
     "metadata": {},
     "output_type": "execute_result"
    }
   ],
   "source": [
    "df1.isnull().sum()"
   ]
  },
  {
   "cell_type": "markdown",
   "id": "798e5a8d-9d6e-4543-beb5-c24f222f9f00",
   "metadata": {},
   "source": [
    "### Datetime format"
   ]
  },
  {
   "cell_type": "code",
   "execution_count": 14,
   "id": "78f44677-b313-428a-ac63-7362ec6b3df5",
   "metadata": {},
   "outputs": [
    {
     "name": "stderr",
     "output_type": "stream",
     "text": [
      "/var/folders/v4/bqj9vzp11vd1cvhf93rmpqt00000gp/T/ipykernel_16434/4142200218.py:1: UserWarning: Could not infer format, so each element will be parsed individually, falling back to `dateutil`. To ensure parsing is consistent and as-expected, please specify a format.\n",
      "  df1.effective_to_date = df1.effective_to_date.astype('datetime64[ns]')\n"
     ]
    }
   ],
   "source": [
    "df1.effective_to_date = df1.effective_to_date.astype('datetime64[ns]')"
   ]
  },
  {
   "cell_type": "code",
   "execution_count": 16,
   "id": "c37a879a-8e03-43bf-b3b6-0f8901ae1c0d",
   "metadata": {},
   "outputs": [],
   "source": [
    "df1['month'] = df1.effective_to_date.dt.month_name()"
   ]
  },
  {
   "cell_type": "code",
   "execution_count": 17,
   "id": "b47439fe-0da6-408c-ac8d-9ee6f175ee85",
   "metadata": {},
   "outputs": [
    {
     "data": {
      "text/html": [
       "<div>\n",
       "<style scoped>\n",
       "    .dataframe tbody tr th:only-of-type {\n",
       "        vertical-align: middle;\n",
       "    }\n",
       "\n",
       "    .dataframe tbody tr th {\n",
       "        vertical-align: top;\n",
       "    }\n",
       "\n",
       "    .dataframe thead th {\n",
       "        text-align: right;\n",
       "    }\n",
       "</style>\n",
       "<table border=\"1\" class=\"dataframe\">\n",
       "  <thead>\n",
       "    <tr style=\"text-align: right;\">\n",
       "      <th></th>\n",
       "      <th>unnamed:_0</th>\n",
       "      <th>customer</th>\n",
       "      <th>state</th>\n",
       "      <th>customer_lifetime_value</th>\n",
       "      <th>response</th>\n",
       "      <th>coverage</th>\n",
       "      <th>education</th>\n",
       "      <th>effective_to_date</th>\n",
       "      <th>employmentstatus</th>\n",
       "      <th>gender</th>\n",
       "      <th>...</th>\n",
       "      <th>number_of_policies</th>\n",
       "      <th>policy_type</th>\n",
       "      <th>policy</th>\n",
       "      <th>renew_offer_type</th>\n",
       "      <th>sales_channel</th>\n",
       "      <th>total_claim_amount</th>\n",
       "      <th>vehicle_class</th>\n",
       "      <th>vehicle_size</th>\n",
       "      <th>vehicle_type</th>\n",
       "      <th>month</th>\n",
       "    </tr>\n",
       "  </thead>\n",
       "  <tbody>\n",
       "    <tr>\n",
       "      <th>0</th>\n",
       "      <td>0</td>\n",
       "      <td>DK49336</td>\n",
       "      <td>Arizona</td>\n",
       "      <td>4809.216960</td>\n",
       "      <td>No</td>\n",
       "      <td>Basic</td>\n",
       "      <td>College</td>\n",
       "      <td>2011-02-18</td>\n",
       "      <td>Employed</td>\n",
       "      <td>M</td>\n",
       "      <td>...</td>\n",
       "      <td>9</td>\n",
       "      <td>Corporate Auto</td>\n",
       "      <td>Corporate L3</td>\n",
       "      <td>Offer3</td>\n",
       "      <td>Agent</td>\n",
       "      <td>292.800000</td>\n",
       "      <td>Four-Door Car</td>\n",
       "      <td>Medsize</td>\n",
       "      <td>Not Aviable</td>\n",
       "      <td>February</td>\n",
       "    </tr>\n",
       "    <tr>\n",
       "      <th>1</th>\n",
       "      <td>1</td>\n",
       "      <td>KX64629</td>\n",
       "      <td>California</td>\n",
       "      <td>2228.525238</td>\n",
       "      <td>No</td>\n",
       "      <td>Basic</td>\n",
       "      <td>College</td>\n",
       "      <td>2011-01-18</td>\n",
       "      <td>Unemployed</td>\n",
       "      <td>F</td>\n",
       "      <td>...</td>\n",
       "      <td>1</td>\n",
       "      <td>Personal Auto</td>\n",
       "      <td>Personal L3</td>\n",
       "      <td>Offer4</td>\n",
       "      <td>Call Center</td>\n",
       "      <td>744.924331</td>\n",
       "      <td>Four-Door Car</td>\n",
       "      <td>Medsize</td>\n",
       "      <td>Not Aviable</td>\n",
       "      <td>January</td>\n",
       "    </tr>\n",
       "  </tbody>\n",
       "</table>\n",
       "<p>2 rows × 27 columns</p>\n",
       "</div>"
      ],
      "text/plain": [
       "   unnamed:_0 customer       state  customer_lifetime_value response coverage   \n",
       "0           0  DK49336     Arizona              4809.216960       No    Basic  \\\n",
       "1           1  KX64629  California              2228.525238       No    Basic   \n",
       "\n",
       "  education effective_to_date employmentstatus gender  ...   \n",
       "0   College        2011-02-18         Employed      M  ...  \\\n",
       "1   College        2011-01-18       Unemployed      F  ...   \n",
       "\n",
       "   number_of_policies     policy_type        policy  renew_offer_type   \n",
       "0                   9  Corporate Auto  Corporate L3            Offer3  \\\n",
       "1                   1   Personal Auto   Personal L3            Offer4   \n",
       "\n",
       "   sales_channel  total_claim_amount  vehicle_class  vehicle_size   \n",
       "0          Agent          292.800000  Four-Door Car       Medsize  \\\n",
       "1    Call Center          744.924331  Four-Door Car       Medsize   \n",
       "\n",
       "  vehicle_type     month  \n",
       "0  Not Aviable  February  \n",
       "1  Not Aviable   January  \n",
       "\n",
       "[2 rows x 27 columns]"
      ]
     },
     "execution_count": 17,
     "metadata": {},
     "output_type": "execute_result"
    }
   ],
   "source": [
    "df1.head(2)"
   ]
  },
  {
   "cell_type": "code",
   "execution_count": 22,
   "id": "8eeb496d-18d3-40cf-a470-42e7aa5a9e80",
   "metadata": {},
   "outputs": [
    {
     "data": {
      "text/plain": [
       "array(['February', 'January'], dtype=object)"
      ]
     },
     "execution_count": 22,
     "metadata": {},
     "output_type": "execute_result"
    }
   ],
   "source": [
    "df1.month.unique()\n",
    "#the filter isn't necesary because there are only information of January and February"
   ]
  },
  {
   "cell_type": "markdown",
   "id": "0686106b-23f3-41cb-89a8-b2c8813e9788",
   "metadata": {},
   "source": [
    "### BONUS: Put all the previously mentioned data transformations into a function."
   ]
  },
  {
   "cell_type": "code",
   "execution_count": 26,
   "id": "23da59f4-7784-4309-9ea5-bf066f357c27",
   "metadata": {},
   "outputs": [],
   "source": [
    "def dealing(df):\n",
    "    print('El shape del Data Frame es:')\n",
    "    print(df.shape)\n",
    "    df.columns = df.columns.str.lower().str.replace(' ','_')\n",
    "    print('Las columnas numericas son:')\n",
    "    print(df.select_dtypes('number').columns)\n",
    "    print('Las columnas categóricas son:')\n",
    "    print(df.select_dtypes('object').columns)\n",
    "    print('Los NaN a corregir son los siguientes:')\n",
    "    print(df.isnull().sum()[df.isnull().sum()>0])\n",
    "    df.months_since_last_claim.fillna(0, inplace = True)\n",
    "    df.number_of_open_complaints.fillna(0, inplace = True)\n",
    "    df.state.fillna('Not Aviable', inplace = True)\n",
    "    df.response.fillna('Not Aviable', inplace = True)\n",
    "    df.vehicle_class.fillna('Not Aviable', inplace = True)\n",
    "    df.vehicle_size.fillna('Not Aviable', inplace = True)\n",
    "    df.vehicle_type.fillna('Not Aviable', inplace = True)\n",
    "    print('Los meses reportados son los siguientes:')\n",
    "    df.effective_to_date = df1.effective_to_date.astype('datetime64[ns]')\n",
    "    df['month'] = df1.effective_to_date.dt.month_name()\n",
    "    print(df.month.unique())"
   ]
  },
  {
   "cell_type": "code",
   "execution_count": 27,
   "id": "323fa7e4-cad2-418d-98f9-f0bbfdcf99ff",
   "metadata": {},
   "outputs": [],
   "source": [
    "base2 = pd.read_csv('files_for_lab/csv_files/marketing_customer_analysis.csv')\n",
    "df2 = pd.DataFrame(base2)"
   ]
  },
  {
   "cell_type": "code",
   "execution_count": 28,
   "id": "e8046cb5-2bef-476b-b92e-f1848b9b56a7",
   "metadata": {},
   "outputs": [
    {
     "name": "stdout",
     "output_type": "stream",
     "text": [
      "El shape del Data Frame es:\n",
      "(10910, 26)\n",
      "Las columnas numericas son:\n",
      "Index(['unnamed:_0', 'customer_lifetime_value', 'income',\n",
      "       'monthly_premium_auto', 'months_since_last_claim',\n",
      "       'months_since_policy_inception', 'number_of_open_complaints',\n",
      "       'number_of_policies', 'total_claim_amount'],\n",
      "      dtype='object')\n",
      "Las columnas categóricas son:\n",
      "Index(['customer', 'state', 'response', 'coverage', 'education',\n",
      "       'effective_to_date', 'employmentstatus', 'gender', 'location_code',\n",
      "       'marital_status', 'policy_type', 'policy', 'renew_offer_type',\n",
      "       'sales_channel', 'vehicle_class', 'vehicle_size', 'vehicle_type'],\n",
      "      dtype='object')\n",
      "Los NaN a corregir son los siguientes:\n",
      "state                         631\n",
      "response                      631\n",
      "months_since_last_claim       633\n",
      "number_of_open_complaints     633\n",
      "vehicle_class                 622\n",
      "vehicle_size                  622\n",
      "vehicle_type                 5482\n",
      "dtype: int64\n",
      "Los meses reportados son los siguientes:\n",
      "['February' 'January']\n"
     ]
    }
   ],
   "source": [
    "dealing(df2)"
   ]
  },
  {
   "cell_type": "code",
   "execution_count": null,
   "id": "210a11d8-80e5-4333-9b37-105537d18506",
   "metadata": {},
   "outputs": [],
   "source": []
  }
 ],
 "metadata": {
  "kernelspec": {
   "display_name": "Python 3 (ipykernel)",
   "language": "python",
   "name": "python3"
  },
  "language_info": {
   "codemirror_mode": {
    "name": "ipython",
    "version": 3
   },
   "file_extension": ".py",
   "mimetype": "text/x-python",
   "name": "python",
   "nbconvert_exporter": "python",
   "pygments_lexer": "ipython3",
   "version": "3.9.13"
  }
 },
 "nbformat": 4,
 "nbformat_minor": 5
}
